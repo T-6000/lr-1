{
  "cells": [
    {
      "cell_type": "markdown",
      "metadata": {
        "id": "M-DGa20PaHnu"
      },
      "source": [
        "#Задача 1\n",
        "Написать функцию на вход которой подается строка, состоящая из латинских букв.\n",
        "Функция должна вернуть количество гласных букв (a, e, i, o, u) в этой строке. Написать тесты для кода"
      ]
    },
    {
      "cell_type": "code",
      "execution_count": null,
      "metadata": {
        "id": "XvX8X_JJ6PCb"
      },
      "outputs": [
        {
          "name": "stdout",
          "output_type": "stream",
          "text": [
            "2\n",
            "0\n"
          ]
        }
      ],
      "source": [
        "def zad1(ll):\n",
        "    count=0\n",
        "    for b in ll:\n",
        "        if (b=='a' or b=='e' or b=='i' or b=='o' or b=='u'):\n",
        "            count +=1\n",
        "    return (count)\n",
        "\n",
        "#test 1\n",
        "print (zad1(\"ajkshdas\"))\n",
        "#test 2\n",
        "print (zad1(\"123\"))\n",
        "\n",
        "    "
      ]
    },
    {
      "cell_type": "markdown",
      "metadata": {
        "id": "t2ClV_Y0bbr6"
      },
      "source": [
        "# Задача 2\n",
        "Написать функцию на вход, которой подается строка. Функция должна вернуть true, если\n",
        "каждый символ в строке встречается только 1 раз, иначе должна вернуть false. Написать тесты для кода"
      ]
    },
    {
      "cell_type": "code",
      "execution_count": 34,
      "metadata": {
        "id": "FppbECao6VIz"
      },
      "outputs": [
        {
          "name": "stdout",
          "output_type": "stream",
          "text": [
            "qwe\n",
            "True\n",
            "ttttt\n",
            "False\n",
            "qwerty\n",
            "True\n"
          ]
        }
      ],
      "source": [
        "def zad2(a):\n",
        "    prov=True\n",
        "    print(a)\n",
        "    for f in range (len(a)):\n",
        "        for t in range (len(a)):\n",
        "            if (f!=t):\n",
        "                if (a[f]==a[t]):\n",
        "                    prov=False\n",
        "    return (prov)\n",
        "a=input()\n",
        "\n",
        "print (zad2(a))\n",
        "#test 1 false\n",
        "print (zad2(\"ttttt\"))\n",
        "#test 2 true\n",
        "print (zad2(\"qwerty\"))\n"
      ]
    },
    {
      "cell_type": "markdown",
      "metadata": {
        "id": "udRiIK1cdt6E"
      },
      "source": [
        "# Задача 3\n",
        "Написать функцию, которая принимает положительное число и возвращает количество\n",
        "бит равных 1 в этом числе. Написать тесты для кода"
      ]
    },
    {
      "cell_type": "code",
      "execution_count": 37,
      "metadata": {
        "id": "6tkfDJRz6dp_"
      },
      "outputs": [
        {
          "name": "stdout",
          "output_type": "stream",
          "text": [
            "10\n",
            "6\n",
            "3\n"
          ]
        }
      ],
      "source": [
        "def zad3(a):\n",
        "     return(bin(int(a)).count(\"1\"))\n",
        "\n",
        "def prov(a):\n",
        "    if (a.isdigit()):\n",
        "            if (int(a)>=0):\n",
        "                print(zad3(a))\n",
        "            else:\n",
        "                print(\"пошел нахуй, чилсо не положительное\")\n",
        "    else:\n",
        "        print(\"Введи число\")\n",
        "\n",
        "a=input()\n",
        "\n",
        "prov(a)\n",
        "\n",
        "prov(\"123\")\n",
        "\n",
        "prov(\"100\")\n",
        "\n"
      ]
    },
    {
      "cell_type": "markdown",
      "metadata": {
        "id": "26dDUz-Ae17N"
      },
      "source": [
        "# Задача 4\n",
        "Написать функцию, которая принимает положительное число. Функция должна вернуть то,\n",
        "сколько раз необходимо перемножать цифры числа или результат перемножения, чтобы\n",
        "получилось число состоящее из одной цифры.\n",
        "Например, для входного числа:\n",
        "· 39 функция должна вернуть 3, так как 3*9=27 => 2*7=14 => 1*4=4\n",
        "· 4 функция должна вернуть 0, так как число уже состоит из одной цифры\n",
        "· 999 функция должна вернуть 4, так как 9*9*9=729 => 7*2*9=126 => 1*2*6=12 =>\n",
        "1*2=2. Написать тесты для кода"
      ]
    },
    {
      "cell_type": "code",
      "execution_count": null,
      "metadata": {
        "id": "BH1A_Mgi6i4G"
      },
      "outputs": [
        {
          "name": "stdout",
          "output_type": "stream",
          "text": [
            "27\n",
            "14\n",
            "4\n",
            "Кол-во итераций: 3\n",
            "729\n",
            "126\n",
            "12\n",
            "2\n",
            "Кол-во итераций: 4\n"
          ]
        }
      ],
      "source": [
        "def magic(t):\n",
        "    count=0\n",
        "    if t>=10:\n",
        "        \n",
        "        while (t>=10):\n",
        "            cc=1\n",
        "            for d in str(t):\n",
        "                cc*=int(d)\n",
        "                t=cc\n",
        "            count+=1  \n",
        "            print (t)                    \n",
        "    return count\n",
        "\n",
        "def prov(line):\n",
        "    if (line.isdigit()):\n",
        "        if (int(line)>=0):\n",
        "\n",
        "            print(\"Кол-во итераций:\", magic(int(line)))\n",
        "        else:\n",
        "            print(\"Ты долбоеб!\")\n",
        "    else:\n",
        "        print(\"Введи число\")\n",
        "\n",
        "\n",
        "\n",
        "line=input()\n",
        "#test 1\n",
        "prov(line)\n",
        "#test 2\n",
        "prov(\"999\")\n",
        "\n",
        "\n"
      ]
    },
    {
      "cell_type": "markdown",
      "metadata": {
        "id": "0nS-kIa8g8vd"
      },
      "source": [
        "# Задача 5\n",
        "Написать функцию, которая принимает два целочисленных вектора одинаковой длины и\n",
        "возвращает среднеквадратическое отклонение двух векторов. Написать тесты для кода"
      ]
    },
    {
      "cell_type": "code",
      "execution_count": 41,
      "metadata": {
        "id": "8iphx4LM6xbx"
      },
      "outputs": [
        {
          "name": "stdout",
          "output_type": "stream",
          "text": [
            "1.0\n",
            "11.0\n"
          ]
        }
      ],
      "source": [
        "import math\n",
        "\n",
        "def mse(pred, true):\n",
        "    sum=0.0\n",
        "    if (len(pred)==len(true)):\n",
        "        for i in range(len(pred)):\n",
        "            cc= pred[i]-true[i]\n",
        "            sum+=cc*cc\n",
        "\n",
        "    return math.sqrt(sum/len(true))\n",
        "\n",
        "vec1=[1,2,3,4,5]\n",
        "vec2=[2,3,4,5,6]\n",
        "\n",
        "vec11=[11,22,33,44,55]\n",
        "vec22=[22,33,44,55,66]\n",
        "\n",
        "#test 1\n",
        "print(mse(vec1,vec2))\n",
        "\n",
        "#test 2\n",
        "print(mse(vec11,vec22))\n",
        "\n",
        "\n",
        "\n",
        "\n"
      ]
    },
    {
      "cell_type": "markdown",
      "metadata": {
        "id": "vpIPKL439zkw"
      },
      "source": [
        "# Задача 6\n",
        "Написать функцию, принимающая целое положительное число. Функция должна вернуть\n",
        "строку вида “(n1**p1)(n2**p2)…(nk**pk)” представляющая разложение числа на простые\n",
        "множители (если pi == 1, то выводить только ni).\n",
        "Например, для числа 86240 функция должна вернуть “(2**5)(5)(7**2)(11)”. Написать тесты для кода"
      ]
    },
    {
      "cell_type": "code",
      "execution_count": null,
      "metadata": {
        "id": "pFebmcZk94Jw"
      },
      "outputs": [],
      "source": []
    },
    {
      "cell_type": "markdown",
      "metadata": {
        "id": "ps2s0BudX7A2"
      },
      "source": [
        "# Задача 7\n",
        "Написать функцию, принимающая целое число n, задающее количество кубиков. Функция\n",
        "должна определить, можно ли из данного кол-ва кубиков построить пирамиду, то есть\n",
        "можно ли представить число n как 1^2+2^2+3^2+…+k^2. Если можно, то функция должна\n",
        "вернуть k, иначе строку “It is impossible”. Написать тесты для кода"
      ]
    },
    {
      "cell_type": "code",
      "execution_count": 35,
      "metadata": {
        "id": "3YPjEXxhX_YT"
      },
      "outputs": [
        {
          "ename": "ValueError",
          "evalue": "invalid literal for int() with base 10: 'esadasdasdas'",
          "output_type": "error",
          "traceback": [
            "\u001b[31m---------------------------------------------------------------------------\u001b[39m",
            "\u001b[31mValueError\u001b[39m                                Traceback (most recent call last)",
            "\u001b[36mCell\u001b[39m\u001b[36m \u001b[39m\u001b[32mIn[35]\u001b[39m\u001b[32m, line 13\u001b[39m\n\u001b[32m      9\u001b[39m     \u001b[38;5;28;01melse\u001b[39;00m:\n\u001b[32m     10\u001b[39m         \u001b[38;5;28;01mreturn\u001b[39;00m(\u001b[33m\"\u001b[39m\u001b[33mIt is imposible\u001b[39m\u001b[33m\"\u001b[39m)\n\u001b[32m---> \u001b[39m\u001b[32m13\u001b[39m n=\u001b[38;5;28;43mint\u001b[39;49m\u001b[43m(\u001b[49m\u001b[38;5;28;43minput\u001b[39;49m\u001b[43m(\u001b[49m\u001b[43m)\u001b[49m\u001b[43m)\u001b[49m\n\u001b[32m     14\u001b[39m \u001b[38;5;28mprint\u001b[39m (pyramid(n))\n",
            "\u001b[31mValueError\u001b[39m: invalid literal for int() with base 10: 'esadasdasdas'"
          ]
        }
      ],
      "source": [
        "def pyramid(number):\n",
        "    sum=0\n",
        "    k=1\n",
        "    while sum<number:\n",
        "        sum+=k**2\n",
        "        k+=1 \n",
        "    if sum==number:\n",
        "        return (str(k))\n",
        "    else:\n",
        "        return(\"It is imposible\")\n",
        "    \n",
        "    \n",
        "n=int(input())\n",
        "print (pyramid(n))"
      ]
    },
    {
      "cell_type": "markdown",
      "metadata": {
        "id": "KeKgmIdAQMEJ"
      },
      "source": [
        "# Задача 8\n",
        "Функция принимает на вход положительное число и определяет является ли оно сбалансированным, т.е. сумма цифр до средних равна сумме цифр после. Средними в случае нечетного числа цифр считать одну цифру, в случае четного - две средних. Написать тесты для кода"
      ]
    },
    {
      "cell_type": "code",
      "execution_count": null,
      "metadata": {
        "id": "gMAAqtqlQrZt"
      },
      "outputs": [
        {
          "name": "stdout",
          "output_type": "stream",
          "text": [
            "Число несбалансированное\n"
          ]
        }
      ],
      "source": [
        "line=input()\n",
        "if (line.isdigit() and len(line)>3 and int(line)>0):\n",
        "    if(len(line)%2==0):\n",
        "        start=int(len(line))//2-1\n",
        "        end=int(len(line))//2+1\n",
        "        sum1=0\n",
        "        sum2=0\n",
        "        for d in range(0,start):\n",
        "            sum1+=int(line[d])\n",
        "        for g in range (end,len(line)):\n",
        "            sum2+=int(line[g])\n",
        "        if(sum1==sum2):\n",
        "            print(\"Число сбалансированное\")\n",
        "        else:\n",
        "            print(\"Число несбалансированное\")\n",
        "    else:\n",
        "        start=int(len(line))//2\n",
        "        end=int(len(line))//2+1\n",
        "        sum1=0\n",
        "        sum2=0\n",
        "        for d in range(0,start):\n",
        "            sum1+=int(line[d])\n",
        "        for g in range (end,len(line)):\n",
        "            sum2+=int(line[g])\n",
        "        if(sum1==sum2):\n",
        "            print(\"Число сбалансированное\")\n",
        "        else:\n",
        "            print(\"Число несбалансированное\")\n",
        "    \n",
        "           \n",
        "\n"
      ]
    }
  ],
  "metadata": {
    "colab": {
      "provenance": []
    },
    "kernelspec": {
      "display_name": "Python 3",
      "name": "python3"
    },
    "language_info": {
      "codemirror_mode": {
        "name": "ipython",
        "version": 3
      },
      "file_extension": ".py",
      "mimetype": "text/x-python",
      "name": "python",
      "nbconvert_exporter": "python",
      "pygments_lexer": "ipython3",
      "version": "3.13.7"
    }
  },
  "nbformat": 4,
  "nbformat_minor": 0
}
