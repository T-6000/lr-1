{
  "cells": [
    {
      "cell_type": "markdown",
      "metadata": {
        "id": "vC84e9kzyxPy"
      },
      "source": [
        "<h1>Импорт библиотек"
      ]
    },
    {
      "cell_type": "code",
      "execution_count": 3,
      "metadata": {
        "id": "cgKeNegmQG5S"
      },
      "outputs": [],
      "source": [
        "import numpy as np\n",
        "import matplotlib.pyplot as plt"
      ]
    },
    {
      "cell_type": "markdown",
      "metadata": {
        "id": "qFM9uVU2x4Ls"
      },
      "source": [
        "<h1>Задача 1. Дан набор из $p$ матриц размерностью $(n, n)$ и $p$ векторов размерностью $(n, 1)$, найти сумму произведений матриц на векторы. Написать тесты для кода"
      ]
    },
    {
      "cell_type": "code",
      "execution_count": 12,
      "metadata": {
        "id": "IAbUvEiYyWFF"
      },
      "outputs": [
        {
          "name": "stdout",
          "output_type": "stream",
          "text": [
            "Пропишите кол-во матриц и векторов\n",
            "Укажите размерность\n",
            "_______\n",
            "[[89  1 11]\n",
            " [30 48 96]\n",
            " [49 80 93]]\n",
            "[[46]\n",
            " [86]\n",
            " [82]]\n",
            "[[ 5082.]\n",
            " [13380.]\n",
            " [16760.]]\n",
            "_______\n",
            "[[ 5 93 65]\n",
            " [55 95 74]\n",
            " [66 10 38]]\n",
            "[[94]\n",
            " [31]\n",
            " [99]]\n",
            "[[ 9788.]\n",
            " [15441.]\n",
            " [10276.]]\n"
          ]
        }
      ],
      "source": [
        "import numpy as np\n",
        "import random\n",
        "\n",
        "def sum_prod(X:np, V:np):\n",
        "    result = np.zeros((n,1))\n",
        "\n",
        "    for i in range(X.shape[1]):\n",
        "        a=0\n",
        "        for j in range(X.shape[0]):\n",
        "            a+=X[i,j]*V[j,0]\n",
        "        result[i,0]=a\n",
        "\n",
        "    \n",
        "    print(result)\n",
        "    '''\n",
        "    X - матрицы (n, n)\n",
        "    V - векторы (n, 1)\n",
        "    Гарантируется, что len(X) == len(V)\n",
        "    '''\n",
        "\n",
        "def mat_vet(p,n):\n",
        "    for i in range(p):\n",
        "        matr=np.random.randint(0,100,(n,n))\n",
        "        vect=np.random.randint(0,100,(n,1))\n",
        "\n",
        "        print(\"_______\")\n",
        "        print(matr)\n",
        "        print(vect)\n",
        "        sum_prod(matr,vect)\n",
        "    pass\n",
        "\n",
        "print(\"Пропишите кол-во матриц и векторов\")    \n",
        "p=int(input())\n",
        "print(\"Укажите размерность\")\n",
        "n=int(input())\n",
        "\n",
        "mat_vet(p,n)\n"
      ]
    },
    {
      "cell_type": "markdown",
      "metadata": {
        "id": "TKwPG4fIy2w4"
      },
      "source": [
        "<h1>Задача 2. Дана матрица M, напишите функцию, которая бинаризует матрицу по некоторому threshold (то есть, все значения большие threshold становятся равными 1, иначе 0). Напишите тесты для кода"
      ]
    },
    {
      "cell_type": "code",
      "execution_count": 81,
      "metadata": {
        "id": "KQDNMgsjRNH7"
      },
      "outputs": [
        {
          "name": "stdout",
          "output_type": "stream",
          "text": [
            "[[0.36170793 0.41820744 0.4326426  0.30283309 0.85053115]\n",
            " [0.2773275  0.795571   0.87459318 0.83794631 0.86870515]\n",
            " [0.68068357 0.07273948 0.73850264 0.68080638 0.64768551]\n",
            " [0.98222417 0.83657146 0.89802755 0.58557759 0.98785222]\n",
            " [0.13924199 0.89830546 0.87468471 0.58404327 0.00262615]]\n",
            "[[0. 0. 0. 0. 1.]\n",
            " [0. 1. 1. 1. 1.]\n",
            " [1. 0. 1. 1. 1.]\n",
            " [1. 1. 1. 1. 1.]\n",
            " [0. 1. 1. 1. 0.]]\n"
          ]
        }
      ],
      "source": [
        "import numpy as np\n",
        "import random\n",
        "\n",
        "ss=int(input())\n",
        "matrix=np.random.rand(ss,ss)\n",
        "\n",
        "print(matrix)\n",
        "\n",
        "(binarize(matrix))\n",
        "\n",
        "def binarize(M:np, threshold=0.5):\n",
        "    for i in range(M.shape[0]):\n",
        "        for j in range(M.shape[1]):\n",
        "            if (M[i,j]<threshold):\n",
        "                M[i,j]=0\n",
        "            else:\n",
        "                M[i,j]=1\n",
        "\n",
        "    print(M)"
      ]
    },
    {
      "cell_type": "markdown",
      "metadata": {
        "id": "IY5L-h-7zWhN"
      },
      "source": [
        "<h1>Задача 3. Напишите функцию, которая возвращает уникальные элементы из каждой строки матрицы. Напишите такую же функцию, но для столбцов. Напишите тесты для кода"
      ]
    },
    {
      "cell_type": "code",
      "execution_count": null,
      "metadata": {
        "id": "-8dEZhR0SBC-"
      },
      "outputs": [
        {
          "name": "stdout",
          "output_type": "stream",
          "text": [
            "Введите размер однородной матрицы\n",
            "[[8 3 9 3 0]\n",
            " [2 0 4 5 0]\n",
            " [4 1 6 2 0]\n",
            " [9 2 8 8 7]\n",
            " [6 8 3 9 6]]\n",
            "[array([0, 3, 8, 9], dtype=int32), array([0, 2, 4, 5], dtype=int32), array([0, 1, 2, 4, 6], dtype=int32), array([2, 7, 8, 9], dtype=int32), array([3, 6, 8, 9], dtype=int32)]\n",
            "[array([2, 4, 6, 8, 9], dtype=int32), array([0, 1, 2, 3, 8], dtype=int32), array([3, 4, 6, 8, 9], dtype=int32), array([2, 3, 5, 8, 9], dtype=int32), array([0, 6, 7], dtype=int32)]\n"
          ]
        }
      ],
      "source": [
        "import numpy as np\n",
        "import random\n",
        "\n",
        "print(\"Введите размер однородной матрицы\")\n",
        "\n",
        "ss=int(input())\n",
        "matr=np.random.randint(0,10, (ss,ss))\n",
        "\n",
        "\n",
        "print(unique_rows(matr))\n",
        "print(unique_columns(matr))\n",
        "\n",
        "\n",
        "def unique_rows(mat:np):\n",
        "    mas1=[]\n",
        "    print(mat)\n",
        "    for i in range(mat.shape[0]):\n",
        "        mas1.append(np.unique(mat[i]))\n",
        "    return mas1\n",
        "        \n",
        "\n",
        "def unique_columns(mat:np):\n",
        "        mas2=[]\n",
        "        for i in range(mat.shape[1]):\n",
        "            mas2.append(np.unique(mat[:,i]))\n",
        "        return mas2"
      ]
    },
    {
      "cell_type": "markdown",
      "metadata": {
        "id": "roYAlo4Jz-lH"
      },
      "source": [
        "<h1>Задача 4. Напишите функцию, которая заполняет матрицу с размерами $(m, n)$ случайными числами, распределенными по нормальному закону. Затем считает мат. ожидание и дисперсию для каждого из столбцов и строк, а также строит для каждой строки и столбца гистограмму значений (использовать функцию hist из модуля matplotlib.plot)"
      ]
    },
    {
      "cell_type": "code",
      "execution_count": null,
      "metadata": {
        "id": "nZK_71hMSQzv"
      },
      "outputs": [],
      "source": [
        "# Your code goes here"
      ]
    },
    {
      "cell_type": "markdown",
      "metadata": {
        "id": "BDyATNdM0dJ2"
      },
      "source": [
        "<h1>Задача 5. Напишите функцию, которая заполняет матрицу $(m, n)$ в шахматном порядке заданными числами $a$ и $b$. Напишите тесты для кода"
      ]
    },
    {
      "cell_type": "code",
      "execution_count": 56,
      "metadata": {
        "id": "RWNJYWQGecS6"
      },
      "outputs": [
        {
          "name": "stdout",
          "output_type": "stream",
          "text": [
            "Введите кол-во строк матрицы\n",
            "Введите кол-во столбцов матрицы\n",
            "Введите первое число\n",
            "Введите второе число\n",
            "[[1. 0. 1. 0.]\n",
            " [0. 1. 0. 1.]\n",
            " [1. 0. 1. 0.]\n",
            " [0. 1. 0. 1.]]\n"
          ]
        }
      ],
      "source": [
        "import numpy as np\n",
        "\n",
        "def chess(m, n, a, b):\n",
        "    matrix=np.zeros((m,n))\n",
        "    for i in range(matrix.shape[0]):\n",
        "        for j in range(matrix.shape[1]):\n",
        "            if ((i+j)%2==0):\n",
        "                matrix[i][j]=a\n",
        "            else:\n",
        "                matrix[i][j]=b\n",
        "    print(matrix)\n",
        "\n",
        "    pass\n",
        "\n",
        "\n",
        "print(\"Введите кол-во строк матрицы\")\n",
        "m=int(input())\n",
        "print(\"Введите кол-во столбцов матрицы\")\n",
        "n=int(input())\n",
        "print(\"Введите первое число\")\n",
        "a=int(input())\n",
        "print(\"Введите второе число\")\n",
        "b=int(input())\n",
        "\n",
        "chess(m, n, a, b)"
      ]
    },
    {
      "cell_type": "markdown",
      "metadata": {
        "id": "-ymXLtTN0vB6"
      },
      "source": [
        "<h1>Задача 6. Напишите функцию, которая отрисовывает прямоугольник с заданными размерами (a, b) на изображении размера (m, n), цвет фона задайте в схеме RGB, как и цвет прямоугольника. Цвета также должны быть параметрами функции. Напишите аналогичную функцию но для овала с полуосями a и b. Напишите тесты для кода.\n",
        "Примечание: уравнение эллипса (границы овала) можно записать как:\n",
        "<h1>$\\frac{(x-x_0)^2}{a^2}+\\frac{(y-y_0)^2}{b^2}=1$"
      ]
    },
    {
      "cell_type": "code",
      "execution_count": 1,
      "metadata": {
        "id": "sNfl1t_kfOF4"
      },
      "outputs": [],
      "source": [
        "def draw_rectangle(a, b, m, n, rectangle_color, background_color):\n",
        "    # Your code goes here\n",
        "    pass\n",
        "\n",
        "def draw_ellipse(a, b, m, n, ellipse_color, background_color):\n",
        "    # Your code goes here\n",
        "    pass"
      ]
    },
    {
      "cell_type": "markdown",
      "metadata": {
        "id": "S82c38oz244H"
      },
      "source": [
        "<h1>Задача 7. Дан некий временной ряд. Для данного ряда нужно найти его: математическое ожидание, дисперсию, СКО, найти все локальные максимумы и минимумы (локальный максимум - это точка, которая больше своих соседних точек, а локальный минимум - это точка, которая меньше своих соседей), а также вычислить для данного ряда другой ряд, получаемый методом скользящего среднего с размером окна $p$.\n",
        "<h1>Примечание: метод скользящего среднего подразумевает нахождение среднего из подмножетсва ряда размером $p$"
      ]
    },
    {
      "cell_type": "code",
      "execution_count": null,
      "metadata": {
        "id": "Zb9mIVge5MMt"
      },
      "outputs": [],
      "source": [
        "# Your code goes here"
      ]
    },
    {
      "cell_type": "markdown",
      "metadata": {
        "id": "jPkylmOX5O9n"
      },
      "source": [
        "<h1> Задача 8. Дан некоторый вектор с целочисленными метками классов, напишите функцию, которая выполняет one-hot-encoding для данного вектора\n",
        "<h1> One-hot-encoding - представление, в котором на месте метки некоторого класса стоит 1, в остальных позициях стоит 0. Например для вектора [0, 2, 3, 0] one-hot-encoding выглядит как: [[1, 0, 0, 0], [0, 0, 1, 0], [0, 0, 0, 1], [1, 0, 0, 0]]"
      ]
    },
    {
      "cell_type": "code",
      "execution_count": null,
      "metadata": {
        "id": "Y-jlnZvw56lD"
      },
      "outputs": [],
      "source": []
    }
  ],
  "metadata": {
    "colab": {
      "provenance": []
    },
    "kernelspec": {
      "display_name": "Python 3",
      "name": "python3"
    },
    "language_info": {
      "codemirror_mode": {
        "name": "ipython",
        "version": 3
      },
      "file_extension": ".py",
      "mimetype": "text/x-python",
      "name": "python",
      "nbconvert_exporter": "python",
      "pygments_lexer": "ipython3",
      "version": "3.13.7"
    }
  },
  "nbformat": 4,
  "nbformat_minor": 0
}
